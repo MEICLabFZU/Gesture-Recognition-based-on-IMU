{
 "cells": [
  {
   "cell_type": "markdown",
   "metadata": {},
   "source": [
    "## Introduction\n",
    "\n",
    "The aim of this code is to develop a model recognizing signs from one to ten, with a simple CNN graphic training model. Our final form of data are plots with 6 lines, representing movements of five fingers and the palm from fist to the sign.\n",
    "\n",
    "The original data is from https://github.com/MEICLabFZU/Gesture-Recognition-based-on-IMU"
   ]
  },
  {
   "cell_type": "code",
   "execution_count": 1,
   "metadata": {},
   "outputs": [],
   "source": [
    "import torchvision\n",
    "import sys,os\n",
    "sys.path.append(os.pardir)\n",
    "import glob as glob\n",
    "import numpy as np\n",
    "import re"
   ]
  },
  {
   "cell_type": "code",
   "execution_count": 2,
   "metadata": {},
   "outputs": [],
   "source": [
    "import matplotlib.pyplot as plt\n",
    "%matplotlib inline"
   ]
  },
  {
   "cell_type": "markdown",
   "metadata": {},
   "source": [
    "### Convert all data into plots\n",
    "\n",
    "Our initial data are text files with numbers only. A final graph of the sign process are made from 12 text files that two of them generates the x-value and y-value of one line.\n",
    "\n",
    "Thus we need:\n",
    "\n",
    "- a function to delete all empty rows at the last of text files\n",
    "\n",
    "- a function to convert numbers in the text file to a numpy array"
   ]
  },
  {
   "cell_type": "code",
   "execution_count": 7,
   "metadata": {},
   "outputs": [],
   "source": [
    "def remove_last_line(l=[\"\"]):\n",
    "    while l[-1]==\"\":\n",
    "        l.remove(l[-1])\n",
    "        \n",
    "    return l"
   ]
  },
  {
   "cell_type": "code",
   "execution_count": 9,
   "metadata": {},
   "outputs": [],
   "source": [
    "def txt_to_array(xn=\"\"):\n",
    "    x1=open(xn,\"rb\")\n",
    "    lx = x1.read().splitlines()\n",
    "    str_lx=[x.decode('utf-8-sig') for x in lx]\n",
    "    str_lx=remove_last_line(str_lx)\n",
    "    lx_=np.float_(str_lx)\n",
    "    return(lx_)"
   ]
  },
  {
   "cell_type": "markdown",
   "metadata": {},
   "source": [
    "Each 12 files representing one movement are saved in the same directory, and then in the directory with \"sign_pack\" which sign is what the data standing for. \n",
    "\n",
    "Then the process to convert 12 texts in one folder into a simgle graph is simple. All we need to do is to iterate each folder under one directory until we finished plotting all data for all sign."
   ]
  },
  {
   "cell_type": "code",
   "execution_count": 18,
   "metadata": {},
   "outputs": [],
   "source": [
    "path=\"C:\\\\Users\\\\yexue\\\\Gesture-Recognition-based-on-IMU\\\\data\\\\supplementarydata\"\n",
    "fig_path=\"C:\\\\Users\\\\yexue\\\\Gesture-Recognition-based-on-IMU\\\\data\\\\figs_supp\""
   ]
  },
  {
   "cell_type": "markdown",
   "metadata": {},
   "source": [
    "### Peep look into the original and the final data\n",
    "\n",
    "As shown below, the original data is in the form of a text file represent data on one axis of a line in a single plot. For example, following code printed the first 20 lines of data on x-axis of fore finger movement when showing eight."
   ]
  },
  {
   "cell_type": "code",
   "execution_count": 19,
   "metadata": {},
   "outputs": [
    {
     "name": "stdout",
     "output_type": "stream",
     "text": [
      "1200\n"
     ]
    },
    {
     "data": {
      "text/plain": [
       "['188.5836623692839',\n",
       " '188.49997627509987',\n",
       " '188.26995488234772',\n",
       " '188.00490746933494',\n",
       " '187.82819793030413',\n",
       " '187.876425085561',\n",
       " '188.31601159932808',\n",
       " '189.25016596842872',\n",
       " '190.26262523163038',\n",
       " '190.03506711893377',\n",
       " '188.2202994280498',\n",
       " '186.43506575248705',\n",
       " '184.58211721041843',\n",
       " '179.84250656893965',\n",
       " '186.18673410610037',\n",
       " '190.49862677723414',\n",
       " '196.0562241467781',\n",
       " '198.3283803931128',\n",
       " '200.28871246493242',\n",
       " '198.54261366044238']"
      ]
     },
     "execution_count": 19,
     "metadata": {},
     "output_type": "execute_result"
    }
   ],
   "source": [
    "# only show first 20 lines of the text file\n",
    "x=open(os.path.join(path,'1.data\\\\one-1.txt'),\"r\")\n",
    "list_x=x.read().splitlines()\n",
    "print(len(list_x))\n",
    "list_x[:20]"
   ]
  },
  {
   "cell_type": "code",
   "execution_count": 28,
   "metadata": {},
   "outputs": [
    {
     "name": "stdout",
     "output_type": "stream",
     "text": [
      "1200\n",
      "[198.28846887 198.13431381 197.88804743 197.50995118 197.03608453\n",
      " 196.66207286 196.4992172  196.55308216 196.82901418 197.24323546\n",
      " 197.68827239 198.12465381 198.40609804 198.25494977 197.57420124\n",
      " 196.55164467 195.52567173 195.12324117 195.71763849 196.937023  ]\n"
     ]
    },
    {
     "data": {
      "image/png": "[encoded data removed]",
      "text/plain": [
       "<Figure size 432x288 with 1 Axes>"
      ]
     },
     "metadata": {
      "needs_background": "light"
     },
     "output_type": "display_data"
    }
   ],
   "source": [
    "lx = txt_to_array(os.path.join(path,'8.data\\\\eight-1.txt'))\n",
    "print(len(lx))\n",
    "print(lx[:20])\n",
    "width = len(lx)//12\n",
    "\n",
    "for i in range(6):\n",
    "    x1 = lx[i * width:(i+1) * width]\n",
    "    y1 = lx[(i+1) * width:(i+2) * width]\n",
    "    plt.plot(x1,y1)"
   ]
  },
  {
   "cell_type": "code",
   "execution_count": 49,
   "metadata": {},
   "outputs": [
    {
     "data": {
      "text/plain": [
       "['ten', '100']"
      ]
     },
     "execution_count": 49,
     "metadata": {},
     "output_type": "execute_result"
    }
   ],
   "source": [
    "signList=os.listdir(path)\n",
    "signList=[int(x.split(\".\")[0]) for x in signList]\n",
    "signList\n",
    "sign=signList[1]\n",
    "sign_path=os.path.join(path,str(sign) + \".data\")\n",
    "sign_path\n",
    "packs=os.listdir(sign_path)\n",
    "pack=packs[2]\n",
    "re.findall(r'[0-9]+|[a-z]+',pack)[:-1]\n"
   ]
  },
  {
   "cell_type": "code",
   "execution_count": 54,
   "metadata": {},
   "outputs": [
    {
     "name": "stdout",
     "output_type": "stream",
     "text": [
      "1 done!\n",
      "10 done!\n",
      "2 done!\n",
      "3 done!\n",
      "4 done!\n",
      "5 done!\n",
      "6 done!\n",
      "7 done!\n",
      "8 done!\n",
      "9 done!\n"
     ]
    },
    {
     "data": {
      "text/plain": [
       "<Figure size 432x288 with 0 Axes>"
      ]
     },
     "metadata": {},
     "output_type": "display_data"
    }
   ],
   "source": [
    "# create a directory\n",
    "if not os.path.isdir(fig_path):\n",
    "    os.mkdir(fig_path)\n",
    "    fig_path=os.path.join(fig_path,\"train\")\n",
    "    os.mkdir(fig_path)\n",
    "    \n",
    "# the list to store all folder for different signs under the initial path\n",
    "signList=os.listdir(path)\n",
    "signList=[int(x.split(\".\")[0]) for x in signList]\n",
    "\n",
    "for sign in signList: # look for sign 1-10\n",
    "    sp=os.path.join(fig_path,str(sign))\n",
    "    if not os.path.isdir(sp):\n",
    "        os.mkdir(sp) # make directory for each sign to save plots\n",
    "    sign_path=os.path.join(path,str(sign) + \".data\")\n",
    "    \n",
    "    packs=os.listdir(sign_path)\n",
    "    for data in packs: # for each pack of one sign, generate the plot respectively\n",
    "        file_name=os.path.join(sign_path, data)\n",
    "        lx = txt_to_array(file_name)\n",
    "        for i in range(6):\n",
    "            x1 = lx[i * width:(i+1) * width]\n",
    "            y1 = lx[(i+1) * width:(i+2) * width]\n",
    "            plt.plot(x1,y1)\n",
    "        #plt.savefig(os.path.join(fig_path,sign,str(pack))+\".jpg\")\n",
    "        lis=re.findall(r'[0-9]+|[a-z]+',data)[:-1]\n",
    "        if len(lis)==1:\n",
    "            lis.append(\"1\")\n",
    "        fig=\".\".join(lis)\n",
    "        plt.savefig(os.path.join(fig_path,str(sign),fig)+\".jpg\")\n",
    "        plt.clf() # clear matplotlib space\n",
    "        #print(pack)\n",
    "    print(str(sign)+\" done!\")\n",
    "\n"
   ]
  },
  {
   "cell_type": "markdown",
   "metadata": {},
   "source": [
    "The generated plots looks as follows that each color represents movement of one part of the hand. This is the an example of sign eight."
   ]
  },
  {
   "cell_type": "code",
   "execution_count": 55,
   "metadata": {},
   "outputs": [
    {
     "data": {
      "image/png": "[encoded data removed]",
      "text/plain": [
       "<Figure size 432x288 with 1 Axes>"
      ]
     },
     "metadata": {
      "needs_background": "light"
     },
     "output_type": "display_data"
    }
   ],
   "source": [
    "import cv2\n",
    "packs=os.listdir(os.path.join(fig_path,\"8\"))\n",
    "import matplotlib.image as mpimg\n",
    "img=mpimg.imread(os.path.join(fig_path,\"8\\\\eight.1.jpg\"))\n",
    "imgplot = plt.imshow(img)\n",
    "plt.show()"
   ]
  },
  {
   "cell_type": "markdown",
   "metadata": {},
   "source": [
    "### Using pytorch to analyze the plots\n",
    "\n",
    "We have generated the plots of sign movement. In order to make and train the model, this step is to devide the data into \"train\" and \"valid\" parts. Since our data size is quite small (about 22 plots for each sign), train size:valid size is approximately 2:1, which is not a usual ratio for such training.\n",
    "\n",
    "First we import all packages."
   ]
  },
  {
   "cell_type": "code",
   "execution_count": 1,
   "metadata": {},
   "outputs": [],
   "source": [
    "#pytorch\n",
    "\n",
    "import glob as glob\n",
    "import os\n",
    "import numpy as np\n",
    "import matplotlib.pyplot as plt\n",
    "import shutil\n",
    "from torchvision import transforms\n",
    "from torchvision import models\n",
    "import torch\n",
    "from torch.autograd import Variable\n",
    "import torch.nn as nn\n",
    "import torch.nn.functional as F\n",
    "from torch.optim import lr_scheduler\n",
    "from torch import optim\n",
    "from torchvision.datasets import ImageFolder\n",
    "from torchvision.utils import make_grid\n",
    "from torch.utils.data import Dataset,DataLoader\n",
    "import time\n",
    "%matplotlib inline\n",
    "\n",
    "import math"
   ]
  },
  {
   "cell_type": "markdown",
   "metadata": {},
   "source": [
    "To split the data into train data and valid data, we shuffle first and then take the first one third of all."
   ]
  },
  {
   "cell_type": "code",
   "execution_count": 2,
   "metadata": {},
   "outputs": [],
   "source": [
    "path = \"C:\\\\Users\\\\yexue\\\\Gesture-Recognition-based-on-IMU\\\\data\\\\figs_supp\\\\\"\n",
    "train_path=os.path.join(path,\"train\")\n",
    "packs=os.listdir(train_path)\n",
    "if not os.path.isdir(os.path.join(path,'valid')):\n",
    "    os.mkdir(os.path.join(path,'valid'))\n",
    "valid_path=os.path.join(path,'valid')\n"
   ]
  },
  {
   "cell_type": "code",
   "execution_count": 4,
   "metadata": {},
   "outputs": [],
   "source": [
    "for pack in packs:\n",
    "#     print(pack)\n",
    "    files=glob.glob(os.path.join(train_path,pack,\"*.jpg\"))\n",
    "#     print(os.path.join(train_path,pack,\"*.jpg\"))\n",
    "    num = len(files)\n",
    "    valid_size = math.floor(num/3)\n",
    "    shuffle = np.random.permutation(num)\n",
    "#     print(shuffle)\n",
    "    \n",
    "    valid_path=os.path.join(path,'valid')\n",
    "    if not os.path.isdir(valid_path):\n",
    "        os.mkdir(valid_path)\n",
    "    pack_path = os.path.join(valid_path,pack)\n",
    "    if not os.path.isdir(pack_path):\n",
    "        os.mkdir(os.path.join(valid_path,pack))\n",
    "    \n",
    "    for i in shuffle[0:valid_size]:\n",
    "#         folder = files[i].split('\\\\')[-1].split('.')[0]\n",
    "\n",
    "        image = files[i].split('\\\\')[-1]\n",
    "#         print(image)\n",
    "        os.rename(files[i],os.path.join(path,'valid',pack,image))\n",
    "    "
   ]
  },
  {
   "cell_type": "markdown",
   "metadata": {},
   "source": [
    "Model construction and training part. (Refer from an example to classify dogs and cats.)"
   ]
  },
  {
   "cell_type": "code",
   "execution_count": 5,
   "metadata": {},
   "outputs": [],
   "source": [
    "simple_transform = transforms.Compose([transforms.Resize((224,224))\n",
    "                                       ,transforms.ToTensor()\n",
    "                                       ,transforms.Normalize([0.485, 0.456, 0.406], [0.229, 0.224, 0.225])])\n",
    "train = ImageFolder(train_path,simple_transform)\n",
    "valid = ImageFolder(valid_path,simple_transform)"
   ]
  },
  {
   "cell_type": "code",
   "execution_count": 6,
   "metadata": {},
   "outputs": [
    {
     "name": "stdout",
     "output_type": "stream",
     "text": [
      "torch.Size([3, 224, 224])\n"
     ]
    },
    {
     "data": {
      "image/png": "[encoded data removed]",
      "text/plain": [
       "<Figure size 432x288 with 1 Axes>"
      ]
     },
     "metadata": {
      "needs_background": "light"
     },
     "output_type": "display_data"
    }
   ],
   "source": [
    "def imshow(inp,cmap=None):\n",
    "    \"\"\"Imshow for Tensor.\"\"\"\n",
    "    inp = inp.numpy().transpose((1, 2, 0))\n",
    "    mean = np.array([0.485, 0.456, 0.406])\n",
    "    std = np.array([0.229, 0.224, 0.225])\n",
    "    inp = std * inp + mean\n",
    "    inp = np.clip(inp, 0, 1)\n",
    "    plt.imshow(inp,cmap)\n",
    "   \n",
    "imshow(valid[50][0])\n",
    "print(valid[50][0].shape)"
   ]
  },
  {
   "cell_type": "code",
   "execution_count": 7,
   "metadata": {},
   "outputs": [],
   "source": [
    "train_data_loader = torch.utils.data.DataLoader(train,batch_size=64,shuffle=True)\n",
    "valid_data_loader = torch.utils.data.DataLoader(valid,batch_size=64,shuffle=True)"
   ]
  },
  {
   "cell_type": "code",
   "execution_count": 8,
   "metadata": {},
   "outputs": [],
   "source": [
    "class Net(nn.Module):\n",
    "    def __init__(self):\n",
    "        super().__init__()\n",
    "        self.conv1 = nn.Conv2d(3, 10, kernel_size=5)\n",
    "        self.conv2 = nn.Conv2d(10, 20, kernel_size=5)\n",
    "#         self.conv2_drop = nn.Dropout2d()\n",
    "#         self.fc1 = nn.Linear(320, 500)\n",
    "        self.fc1 = nn.Linear(56180,500)\n",
    "        self.fc2 = nn.Linear(500,50)\n",
    "        self.fc3 = nn.Linear(50, 10)\n",
    "\n",
    "    def forward(self, x):\n",
    "#         print(x.size())  # [5,3,28,28]\n",
    "        x = F.relu(F.max_pool2d(self.conv1(x), 2)) # [3,224,224]\n",
    "#         print(x.size())  # [5,10,12,12]\n",
    "        x = F.relu(F.max_pool2d(self.conv2(x), 2))\n",
    "#         print(x.size())  # [5,20,4,4]\n",
    "        x = x.view(x.size(0), -1)\n",
    "        x = F.relu(self.fc1(x))\n",
    "#         print(x.size())  # [5,40]\n",
    "        #x = F.dropout(x, training=self.training)\n",
    "        x = F.relu(self.fc2(x))\n",
    "#         print(x.size())  # [5,10]\n",
    "        #x = F.dropout(x,training=self.training)\n",
    "        x = self.fc3(x)\n",
    "#         print(x.size())  # [5,10]\n",
    "\n",
    "        return F.log_softmax(x,dim=1)"
   ]
  },
  {
   "cell_type": "code",
   "execution_count": 9,
   "metadata": {},
   "outputs": [],
   "source": [
    "# class Net(nn.Module):\n",
    "#     def __init__(self):\n",
    "#         super(Net, self).__init__()\n",
    "#         self.conv1 = nn.Conv2d(3, 10, kernel_size=5)\n",
    "#         self.conv2 = nn.Conv2d(10, 20, kernel_size=5)\n",
    "#         self.conv2_drop = nn.Dropout2d()\n",
    "#         self.fc1 = nn.Linear(320, 50)\n",
    "#         self.fc2 = nn.Linear(50, 10)\n",
    "\n",
    "#     def forward(self, x):\n",
    "#         x = F.relu(F.max_pool2d(self.conv1(x), 2))\n",
    "#         x = F.relu(F.max_pool2d(self.conv2_drop(self.conv2(x)), 2))\n",
    "#         x = x.view(x.size(0),-1)\n",
    "#         x = F.relu(self.fc1(x))\n",
    "#         x = F.dropout(x, training=self.training)\n",
    "#         x = self.fc2(x)\n",
    "#         return F.log_softmax(x)"
   ]
  },
  {
   "cell_type": "code",
   "execution_count": 10,
   "metadata": {},
   "outputs": [],
   "source": [
    "model = Net()\n",
    "optimizer = optim.SGD(model.parameters(),lr=0.01,momentum=0.5)"
   ]
  },
  {
   "cell_type": "code",
   "execution_count": 11,
   "metadata": {},
   "outputs": [],
   "source": [
    "def fit(epoch,model,data_loader,phase='training',volatile=False):\n",
    "    if phase == 'training':\n",
    "        model.train()\n",
    "    if phase == 'validation':\n",
    "        model.eval()\n",
    "        volatile=True\n",
    "    running_loss = 0.0\n",
    "    running_correct = 0\n",
    "    for batch_idx , (data,target) in enumerate(data_loader):\n",
    "#         if is_cuda:\n",
    "#             data,target = data.cuda(),target.cuda()\n",
    "        data , target = Variable(data,volatile),Variable(target)\n",
    "        if phase == 'training':\n",
    "            optimizer.zero_grad()\n",
    "        output = model(data)\n",
    "        loss = F.nll_loss(output,target)\n",
    "        \n",
    "        running_loss += F.nll_loss(output,target,size_average=False).item()\n",
    "        preds = output.data.max(dim=1,keepdim=True)[1]\n",
    "        running_correct += preds.eq(target.data.view_as(preds)).cpu().sum()\n",
    "        if phase == 'training':\n",
    "            loss.backward()\n",
    "            optimizer.step()\n",
    "    \n",
    "    loss = running_loss/len(data_loader.dataset)\n",
    "    accuracy = 100. * running_correct/len(data_loader.dataset)\n",
    "    \n",
    "    print(f'{phase} loss is {loss:{5}.{2}} and {phase} accuracy is {running_correct}/{len(data_loader.dataset)}{accuracy:{10}.{4}}')\n",
    "    return loss,accuracy"
   ]
  },
  {
   "cell_type": "code",
   "execution_count": 12,
   "metadata": {
    "scrolled": false
   },
   "outputs": [
    {
     "name": "stderr",
     "output_type": "stream",
     "text": [
      "C:\\Users\\yexue\\Anaconda3\\lib\\site-packages\\torch\\nn\\_reduction.py:43: UserWarning: size_average and reduce args will be deprecated, please use reduction='sum' instead.\n",
      "  warnings.warn(warning.format(ret))\n"
     ]
    },
    {
     "name": "stdout",
     "output_type": "stream",
     "text": [
      "training loss is   2.3 and training accuracy is 97/1040     9.327\n",
      "validation loss is   2.3 and validation accuracy is 51/510      10.0\n",
      "training loss is   2.3 and training accuracy is 125/1040     12.02\n",
      "validation loss is   2.3 and validation accuracy is 51/510      10.0\n",
      "training loss is   2.3 and training accuracy is 121/1040     11.63\n",
      "validation loss is   2.3 and validation accuracy is 79/510     15.49\n",
      "training loss is   2.3 and training accuracy is 216/1040     20.77\n",
      "validation loss is   2.2 and validation accuracy is 153/510      30.0\n",
      "training loss is   2.2 and training accuracy is 342/1040     32.88\n",
      "validation loss is   2.1 and validation accuracy is 265/510     51.96\n",
      "training loss is   2.0 and training accuracy is 494/1040      47.5\n",
      "validation loss is   1.8 and validation accuracy is 272/510     53.33\n",
      "training loss is   1.6 and training accuracy is 552/1040     53.08\n",
      "validation loss is   1.5 and validation accuracy is 205/510      40.2\n",
      "training loss is  0.98 and training accuracy is 713/1040     68.56\n",
      "validation loss is   1.3 and validation accuracy is 241/510     47.25\n",
      "training loss is  0.73 and training accuracy is 810/1040     77.88\n",
      "validation loss is  0.79 and validation accuracy is 396/510     77.65\n"
     ]
    }
   ],
   "source": [
    "train_losses , train_accuracy = [],[]\n",
    "val_losses , val_accuracy = [],[]\n",
    "for epoch in range(1,10):\n",
    "    epoch_loss, epoch_accuracy = fit(epoch,model,train_data_loader,phase='training')\n",
    "    val_epoch_loss , val_epoch_accuracy = fit(epoch,model,valid_data_loader,phase='validation')\n",
    "    train_losses.append(epoch_loss)\n",
    "    train_accuracy.append(epoch_accuracy)\n",
    "    val_losses.append(val_epoch_loss)\n",
    "    val_accuracy.append(val_epoch_accuracy)"
   ]
  },
  {
   "cell_type": "code",
   "execution_count": 15,
   "metadata": {},
   "outputs": [
    {
     "name": "stdout",
     "output_type": "stream",
     "text": [
      "training loss is  0.36 and training accuracy is 934/1040     89.81\n",
      "validation loss is  0.41 and validation accuracy is 449/510     88.04\n",
      "training loss is  0.17 and training accuracy is 995/1040     95.67\n",
      "validation loss is  0.22 and validation accuracy is 475/510     93.14\n",
      "training loss is 0.097 and training accuracy is 1015/1040      97.6\n",
      "validation loss is  0.11 and validation accuracy is 489/510     95.88\n",
      "training loss is 0.069 and training accuracy is 1023/1040     98.37\n",
      "validation loss is 0.092 and validation accuracy is 495/510     97.06\n",
      "training loss is 0.031 and training accuracy is 1038/1040     99.81\n",
      "validation loss is 0.057 and validation accuracy is 502/510     98.43\n",
      "training loss is 0.023 and training accuracy is 1038/1040     99.81\n",
      "validation loss is 0.041 and validation accuracy is 501/510     98.24\n",
      "training loss is 0.018 and training accuracy is 1038/1040     99.81\n",
      "validation loss is  0.03 and validation accuracy is 510/510     100.0\n",
      "training loss is 0.016 and training accuracy is 1039/1040      99.9\n",
      "validation loss is 0.034 and validation accuracy is 505/510     99.02\n",
      "training loss is 0.013 and training accuracy is 1039/1040      99.9\n",
      "validation loss is 0.024 and validation accuracy is 510/510     100.0\n"
     ]
    }
   ],
   "source": [
    "for epoch in range(1,10):\n",
    "    epoch_loss, epoch_accuracy = fit(epoch,model,train_data_loader,phase='training')\n",
    "    val_epoch_loss , val_epoch_accuracy = fit(epoch,model,valid_data_loader,phase='validation')\n",
    "    train_losses.append(epoch_loss)\n",
    "    train_accuracy.append(epoch_accuracy)\n",
    "    val_losses.append(val_epoch_loss)\n",
    "    val_accuracy.append(val_epoch_accuracy)"
   ]
  },
  {
   "cell_type": "code",
   "execution_count": 18,
   "metadata": {},
   "outputs": [
    {
     "name": "stdout",
     "output_type": "stream",
     "text": [
      "training loss is 0.011 and training accuracy is 1039/1040      99.9\n",
      "validation loss is 0.023 and validation accuracy is 505/510     99.02\n",
      "training loss is 0.011 and training accuracy is 1039/1040      99.9\n",
      "validation loss is 0.021 and validation accuracy is 505/510     99.02\n",
      "training loss is 0.0086 and training accuracy is 1039/1040      99.9\n",
      "validation loss is 0.032 and validation accuracy is 505/510     99.02\n",
      "training loss is 0.0099 and training accuracy is 1039/1040      99.9\n",
      "validation loss is  0.02 and validation accuracy is 505/510     99.02\n"
     ]
    }
   ],
   "source": [
    "for epoch in range(1,5):\n",
    "    epoch_loss, epoch_accuracy = fit(epoch,model,train_data_loader,phase='training')\n",
    "    val_epoch_loss , val_epoch_accuracy = fit(epoch,model,valid_data_loader,phase='validation')\n",
    "    train_losses.append(epoch_loss)\n",
    "    train_accuracy.append(epoch_accuracy)\n",
    "    val_losses.append(val_epoch_loss)\n",
    "    val_accuracy.append(val_epoch_accuracy)"
   ]
  },
  {
   "cell_type": "code",
   "execution_count": null,
   "metadata": {},
   "outputs": [],
   "source": [
    "for epoch in range(1,10):\n",
    "    epoch_loss, epoch_accuracy = fit(epoch,model,train_data_loader,phase='training')\n",
    "    val_epoch_loss , val_epoch_accuracy = fit(epoch,model,valid_data_loader,phase='validation')\n",
    "    train_losses.append(epoch_loss)\n",
    "    train_accuracy.append(epoch_accuracy)\n",
    "    val_losses.append(val_epoch_loss)\n",
    "    val_accuracy.append(val_epoch_accuracy)"
   ]
  },
  {
   "cell_type": "code",
   "execution_count": 19,
   "metadata": {},
   "outputs": [
    {
     "data": {
      "image/png": "[encoded data removed]",
      "text/plain": [
       "<Figure size 432x288 with 1 Axes>"
      ]
     },
     "metadata": {
      "needs_background": "light"
     },
     "output_type": "display_data"
    }
   ],
   "source": [
    "path = \"C:\\\\Users\\\\yexue\\\\Gesture-Recognition-based-on-IMU\"\n",
    "\n",
    "plt.plot(range(1,len(train_losses)+1),train_losses,'bo',label = 'training loss')\n",
    "plt.plot(range(1,len(val_losses)+1),val_losses,'r',label = 'validation loss')\n",
    "plt.legend()\n",
    "plt.savefig(os.path.join(path,\"loss.jpg\"))"
   ]
  },
  {
   "cell_type": "code",
   "execution_count": 20,
   "metadata": {},
   "outputs": [
    {
     "data": {
      "image/png": "[encoded data removed]",
      "text/plain": [
       "<Figure size 432x288 with 1 Axes>"
      ]
     },
     "metadata": {
      "needs_background": "light"
     },
     "output_type": "display_data"
    }
   ],
   "source": [
    "plt.plot(range(1,len(train_accuracy)+1),train_accuracy,'bo',label = 'train accuracy')\n",
    "plt.plot(range(1,len(val_accuracy)+1),val_accuracy,'r',label = 'val accuracy')\n",
    "plt.legend()\n",
    "plt.savefig(os.path.join(path,\"accuracy.jpg\"))"
   ]
  },
  {
   "cell_type": "code",
   "execution_count": null,
   "metadata": {},
   "outputs": [],
   "source": []
  },
  {
   "cell_type": "code",
   "execution_count": null,
   "metadata": {},
   "outputs": [],
   "source": []
  },
  {
   "cell_type": "code",
   "execution_count": 166,
   "metadata": {},
   "outputs": [],
   "source": [
    "# def train(epoch):\n",
    "#     model.train()\n",
    "#     for batch_idx, (data, target) in enumerate(train_data_loader):\n",
    "#         optimizer.zero_grad()\n",
    "#         output = model(data)\n",
    "#         loss = F.nll_loss(output, target)\n",
    "#         loss.backward()\n",
    "#         optimizer.step()\n",
    "#         if batch_idx % log_interval == 0:\n",
    "#             print('Train Epoch: {} [{}/{} ({:.0f}%)]\\tLoss: {:.6f}'.format(\n",
    "#                 epoch, batch_idx * len(data), len(train_data_loader.dataset),\n",
    "#                 100. * batch_idx / len(train_data_loader), loss.item()))\n",
    "#             train_losses.append(loss.item())\n",
    "#             train_counter.append(\n",
    "#                 (batch_idx*64) + ((epoch-1)*len(train_data_loader.dataset)))"
   ]
  },
  {
   "cell_type": "code",
   "execution_count": 167,
   "metadata": {},
   "outputs": [],
   "source": [
    "# def test():\n",
    "#     model.eval()\n",
    "#     test_loss = 0\n",
    "#     correct = 0\n",
    "#     with torch.no_grad():\n",
    "#         for data, target in valid_data_loader:\n",
    "#             output = model(data)\n",
    "#             test_loss += F.nll_loss(output, target, size_average=False).item()\n",
    "#             pred = output.data.max(1, keepdim=True)[1]\n",
    "#             correct += pred.eq(target.data.view_as(pred)).sum()\n",
    "#     test_loss /= len(valid_data_loader.dataset)\n",
    "#     test_losses.append(test_loss)\n",
    "#     print('\\nTest set: Avg. loss: {:.4f}, Accuracy: {}/{} ({:.0f}%)\\n'.format(\n",
    "#         test_loss, correct, len(valid_data_loader.dataset),\n",
    "#         100. * correct / len(valid_data_loader.dataset)))"
   ]
  },
  {
   "cell_type": "code",
   "execution_count": 169,
   "metadata": {
    "collapsed": true
   },
   "outputs": [
    {
     "name": "stdout",
     "output_type": "stream",
     "text": [
      "\n",
      "Test set: Avg. loss: 2.3004, Accuracy: 71/510 (14%)\n",
      "\n",
      "Train Epoch: 1 [0/1040 (0%)]\tLoss: 2.298346\n",
      "Train Epoch: 1 [640/1040 (59%)]\tLoss: 2.301919\n",
      "\n",
      "Test set: Avg. loss: 2.2992, Accuracy: 75/510 (15%)\n",
      "\n",
      "Train Epoch: 2 [0/1040 (0%)]\tLoss: 2.294892\n",
      "Train Epoch: 2 [640/1040 (59%)]\tLoss: 2.301924\n",
      "\n",
      "Test set: Avg. loss: 2.2985, Accuracy: 74/510 (15%)\n",
      "\n",
      "Train Epoch: 3 [0/1040 (0%)]\tLoss: 2.294682\n",
      "Train Epoch: 3 [640/1040 (59%)]\tLoss: 2.296587\n",
      "\n",
      "Test set: Avg. loss: 2.2971, Accuracy: 88/510 (17%)\n",
      "\n",
      "Train Epoch: 4 [0/1040 (0%)]\tLoss: 2.292691\n",
      "Train Epoch: 4 [640/1040 (59%)]\tLoss: 2.301257\n",
      "\n",
      "Test set: Avg. loss: 2.2957, Accuracy: 51/510 (10%)\n",
      "\n",
      "Train Epoch: 5 [0/1040 (0%)]\tLoss: 2.298717\n",
      "Train Epoch: 5 [640/1040 (59%)]\tLoss: 2.296419\n",
      "\n",
      "Test set: Avg. loss: 2.2948, Accuracy: 51/510 (10%)\n",
      "\n",
      "Train Epoch: 6 [0/1040 (0%)]\tLoss: 2.296418\n",
      "Train Epoch: 6 [640/1040 (59%)]\tLoss: 2.291975\n",
      "\n",
      "Test set: Avg. loss: 2.2927, Accuracy: 58/510 (11%)\n",
      "\n",
      "Train Epoch: 7 [0/1040 (0%)]\tLoss: 2.296333\n",
      "Train Epoch: 7 [640/1040 (59%)]\tLoss: 2.292885\n",
      "\n",
      "Test set: Avg. loss: 2.2904, Accuracy: 90/510 (18%)\n",
      "\n",
      "Train Epoch: 8 [0/1040 (0%)]\tLoss: 2.291479\n",
      "Train Epoch: 8 [640/1040 (59%)]\tLoss: 2.292890\n",
      "\n",
      "Test set: Avg. loss: 2.2883, Accuracy: 61/510 (12%)\n",
      "\n",
      "Train Epoch: 9 [0/1040 (0%)]\tLoss: 2.287119\n",
      "Train Epoch: 9 [640/1040 (59%)]\tLoss: 2.296059\n",
      "\n",
      "Test set: Avg. loss: 2.2853, Accuracy: 51/510 (10%)\n",
      "\n",
      "Train Epoch: 10 [0/1040 (0%)]\tLoss: 2.291048\n",
      "Train Epoch: 10 [640/1040 (59%)]\tLoss: 2.276034\n",
      "\n",
      "Test set: Avg. loss: 2.2815, Accuracy: 166/510 (33%)\n",
      "\n",
      "Train Epoch: 11 [0/1040 (0%)]\tLoss: 2.279611\n",
      "Train Epoch: 11 [640/1040 (59%)]\tLoss: 2.275883\n",
      "\n",
      "Test set: Avg. loss: 2.2779, Accuracy: 64/510 (13%)\n",
      "\n",
      "Train Epoch: 12 [0/1040 (0%)]\tLoss: 2.289625\n",
      "Train Epoch: 12 [640/1040 (59%)]\tLoss: 2.267743\n",
      "\n",
      "Test set: Avg. loss: 2.2703, Accuracy: 185/510 (36%)\n",
      "\n",
      "Train Epoch: 13 [0/1040 (0%)]\tLoss: 2.267324\n",
      "Train Epoch: 13 [640/1040 (59%)]\tLoss: 2.272429\n",
      "\n",
      "Test set: Avg. loss: 2.2609, Accuracy: 170/510 (33%)\n",
      "\n",
      "Train Epoch: 14 [0/1040 (0%)]\tLoss: 2.253457\n",
      "Train Epoch: 14 [640/1040 (59%)]\tLoss: 2.259839\n",
      "\n",
      "Test set: Avg. loss: 2.2511, Accuracy: 212/510 (42%)\n",
      "\n",
      "Train Epoch: 15 [0/1040 (0%)]\tLoss: 2.255338\n",
      "Train Epoch: 15 [640/1040 (59%)]\tLoss: 2.229632\n",
      "\n",
      "Test set: Avg. loss: 2.2354, Accuracy: 55/510 (11%)\n",
      "\n",
      "Train Epoch: 16 [0/1040 (0%)]\tLoss: 2.242553\n",
      "Train Epoch: 16 [640/1040 (59%)]\tLoss: 2.230123\n",
      "\n",
      "Test set: Avg. loss: 2.1993, Accuracy: 162/510 (32%)\n",
      "\n",
      "Train Epoch: 17 [0/1040 (0%)]\tLoss: 2.193167\n",
      "Train Epoch: 17 [640/1040 (59%)]\tLoss: 2.202038\n",
      "\n",
      "Test set: Avg. loss: 2.1497, Accuracy: 174/510 (34%)\n",
      "\n",
      "Train Epoch: 18 [0/1040 (0%)]\tLoss: 2.167885\n",
      "Train Epoch: 18 [640/1040 (59%)]\tLoss: 2.107428\n",
      "\n",
      "Test set: Avg. loss: 2.1543, Accuracy: 100/510 (20%)\n",
      "\n",
      "Train Epoch: 19 [0/1040 (0%)]\tLoss: 2.104742\n",
      "Train Epoch: 19 [640/1040 (59%)]\tLoss: 1.958378\n",
      "\n",
      "Test set: Avg. loss: 1.9082, Accuracy: 155/510 (30%)\n",
      "\n",
      "Train Epoch: 20 [0/1040 (0%)]\tLoss: 1.960652\n",
      "Train Epoch: 20 [640/1040 (59%)]\tLoss: 1.717282\n",
      "\n",
      "Test set: Avg. loss: 1.7977, Accuracy: 262/510 (51%)\n",
      "\n",
      "Train Epoch: 21 [0/1040 (0%)]\tLoss: 1.806412\n",
      "Train Epoch: 21 [640/1040 (59%)]\tLoss: 1.687969\n",
      "\n",
      "Test set: Avg. loss: 1.4352, Accuracy: 283/510 (55%)\n",
      "\n",
      "Train Epoch: 22 [0/1040 (0%)]\tLoss: 1.327237\n",
      "Train Epoch: 22 [640/1040 (59%)]\tLoss: 1.391162\n",
      "\n",
      "Test set: Avg. loss: 1.3530, Accuracy: 277/510 (54%)\n",
      "\n",
      "Train Epoch: 23 [0/1040 (0%)]\tLoss: 1.349794\n",
      "Train Epoch: 23 [640/1040 (59%)]\tLoss: 1.146442\n",
      "\n",
      "Test set: Avg. loss: 1.1426, Accuracy: 299/510 (59%)\n",
      "\n",
      "Train Epoch: 24 [0/1040 (0%)]\tLoss: 1.017065\n",
      "Train Epoch: 24 [640/1040 (59%)]\tLoss: 0.848737\n",
      "\n",
      "Test set: Avg. loss: 1.0399, Accuracy: 324/510 (64%)\n",
      "\n",
      "Train Epoch: 25 [0/1040 (0%)]\tLoss: 1.115489\n",
      "Train Epoch: 25 [640/1040 (59%)]\tLoss: 0.862808\n",
      "\n",
      "Test set: Avg. loss: 1.5865, Accuracy: 214/510 (42%)\n",
      "\n",
      "Train Epoch: 26 [0/1040 (0%)]\tLoss: 1.490536\n",
      "Train Epoch: 26 [640/1040 (59%)]\tLoss: 0.943281\n",
      "\n",
      "Test set: Avg. loss: 0.8321, Accuracy: 359/510 (70%)\n",
      "\n",
      "Train Epoch: 27 [0/1040 (0%)]\tLoss: 0.939980\n",
      "Train Epoch: 27 [640/1040 (59%)]\tLoss: 0.624861\n",
      "\n",
      "Test set: Avg. loss: 1.0732, Accuracy: 297/510 (58%)\n",
      "\n",
      "Train Epoch: 28 [0/1040 (0%)]\tLoss: 0.954111\n",
      "Train Epoch: 28 [640/1040 (59%)]\tLoss: 0.829519\n",
      "\n",
      "Test set: Avg. loss: 0.7093, Accuracy: 406/510 (80%)\n",
      "\n",
      "Train Epoch: 29 [0/1040 (0%)]\tLoss: 0.680849\n",
      "Train Epoch: 29 [640/1040 (59%)]\tLoss: 0.599825\n",
      "\n",
      "Test set: Avg. loss: 0.6417, Accuracy: 392/510 (77%)\n",
      "\n",
      "Train Epoch: 30 [0/1040 (0%)]\tLoss: 0.730152\n",
      "Train Epoch: 30 [640/1040 (59%)]\tLoss: 0.648065\n",
      "\n",
      "Test set: Avg. loss: 0.7268, Accuracy: 379/510 (74%)\n",
      "\n"
     ]
    }
   ],
   "source": [
    "# n_epochs = 30\n",
    "# batch_size_train = 64\n",
    "# batch_size_test = 1000\n",
    "# learning_rate = 0.01\n",
    "# momentum = 0.5\n",
    "# log_interval = 10\n",
    "\n",
    "# train_losses = []\n",
    "# train_counter = []\n",
    "# test_losses = []\n",
    "# test_counter = [i*len(train_data_loader.dataset) for i in range(n_epochs + 1)]\n",
    "\n",
    "# test()\n",
    "# for epoch in range(1, n_epochs + 1):\n",
    "#     train(epoch)\n",
    "#     test()"
   ]
  },
  {
   "cell_type": "code",
   "execution_count": 174,
   "metadata": {
    "collapsed": true
   },
   "outputs": [
    {
     "data": {
      "text/plain": [
       "Text(0, 0.5, 'negative log likelihood loss')"
      ]
     },
     "execution_count": 174,
     "metadata": {},
     "output_type": "execute_result"
    },
    {
     "data": {
      "image/png": "[encoded data removed]",
      "text/plain": [
       "<Figure size 432x288 with 1 Axes>"
      ]
     },
     "metadata": {
      "needs_background": "light"
     },
     "output_type": "display_data"
    }
   ],
   "source": [
    "# fig = plt.figure()\n",
    "# plt.plot(train_counter, train_losses, color='blue')\n",
    "# plt.scatter(test_counter, test_losses, color='red')\n",
    "# plt.legend(['Train Loss', 'Test Loss'], loc='upper right')\n",
    "# plt.xlabel('number of training examples seen')\n",
    "# plt.ylabel('negative log likelihood loss')"
   ]
  }
 ],
 "metadata": {
  "kernelspec": {
   "display_name": "Python 3",
   "language": "python",
   "name": "python3"
  },
  "language_info": {
   "codemirror_mode": {
    "name": "ipython",
    "version": 3
   },
   "file_extension": ".py",
   "mimetype": "text/x-python",
   "name": "python",
   "nbconvert_exporter": "python",
   "pygments_lexer": "ipython3",
   "version": "3.7.4"
  }
 },
 "nbformat": 4,
 "nbformat_minor": 2
}
